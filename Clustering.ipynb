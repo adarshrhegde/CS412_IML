{
 "cells": [
  {
   "cell_type": "code",
   "execution_count": 53,
   "metadata": {},
   "outputs": [],
   "source": [
    "'''Clustering tasks''' \n",
    "\n",
    "import pandas as pd\n",
    "import seaborn as sns\n",
    "import matplotlib.pyplot as plt\n",
    "import numpy as np\n",
    "from sklearn.cluster import KMeans\n",
    "from sklearn.preprocessing import LabelEncoder\n",
    "from sklearn.preprocessing import MinMaxScaler\n",
    "%matplotlib inline"
   ]
  },
  {
   "cell_type": "code",
   "execution_count": null,
   "metadata": {
    "scrolled": true
   },
   "outputs": [],
   "source": [
    "'''Task1 - To group customers with similar spending power.''' \n",
    "\n",
    "''' Read orders dataset '''\n",
    "orders_df = pd.read_csv('D:\\IML Assignments\\project\\CS412_IML/data/olist_orders_dataset.csv')\n",
    "orders_df = orders_df[['order_id', 'customer_id']]\n",
    "orders_df.head()"
   ]
  },
  {
   "cell_type": "code",
   "execution_count": null,
   "metadata": {},
   "outputs": [],
   "source": [
    "''' Read payments dataset '''\n",
    "payments_df = pd.read_csv('D:\\IML Assignments\\project\\CS412_IML/data/olist_order_payments_dataset.csv')\n",
    "payments_df = payments_df[['order_id','payment_value']]\n",
    "payments_df.head()"
   ]
  },
  {
   "cell_type": "code",
   "execution_count": null,
   "metadata": {
    "scrolled": false
   },
   "outputs": [],
   "source": [
    "''' Merge orders and payments '''\n",
    "order_payments_df = pd.merge(orders_df, payments_df, on='order_id',how='left')\n",
    "order_payments_df = order_payments_df.drop(['order_id'], axis=1)\n",
    "\n",
    "''' Group by based on each customer_id '''\n",
    "order_payments_df = order_payments_df.groupby('customer_id', as_index=False).agg({\"payment_value\":\"sum\"})\n",
    "order_payments_df.head()"
   ]
  },
  {
   "cell_type": "code",
   "execution_count": null,
   "metadata": {
    "scrolled": true
   },
   "outputs": [],
   "source": [
    "''' Read customers dataset '''\n",
    "customers_df = pd.read_csv('D:\\IML Assignments\\project\\CS412_IML/data/olist_customers_dataset.csv')\n",
    "\n",
    "customers_df = customers_df.drop([\"customer_unique_id\"], axis=1)\n",
    "customers_df.head()\n",
    "len(customers_df)"
   ]
  },
  {
   "cell_type": "code",
   "execution_count": 51,
   "metadata": {
    "scrolled": false
   },
   "outputs": [
    {
     "name": "stdout",
     "output_type": "stream",
     "text": [
      "                        customer_id  customer_zip_code_prefix  \\\n",
      "0  06b8999e2fba1a1fbc88172c00ba8bc7                     14409   \n",
      "1  18955e83d337fd6b2def6b18a428ac77                      9790   \n",
      "2  4e7b3e00288586ebd08712fdd0374a03                      1151   \n",
      "3  b2b6027bc5c5109e529d4dc6358b12c3                      8775   \n",
      "4  4f2d8ab171c80ec8364f7c12e35b23ad                     13056   \n",
      "\n",
      "           customer_city customer_state  payment_value  \n",
      "0                 franca             SP         146.87  \n",
      "1  sao bernardo do campo             SP         335.48  \n",
      "2              sao paulo             SP         157.73  \n",
      "3        mogi das cruzes             SP         173.30  \n",
      "4               campinas             SP         252.25  \n",
      "['SP' 'SC' 'MG' 'PR' 'RJ' 'RS' 'PA' 'GO' 'ES' 'BA' 'MA' 'MS' 'CE' 'DF'\n",
      " 'RN' 'PE' 'MT' 'AM' 'AP' 'AL' 'RO' 'PB' 'TO' 'PI' 'AC' 'SE' 'RR']\n",
      "['franca' 'sao bernardo do campo' 'sao paulo' ... 'monte bonito'\n",
      " 'sao rafael' 'eugenio de castro']\n"
     ]
    }
   ],
   "source": [
    "'''join orders-payments and customers based on customerid'''\n",
    "customer_spend_df = pd.merge(customers_df, order_payments_df, on=\"customer_id\")\n",
    "print(customer_spend_df.head())\n",
    "print(customer_spend_df['customer_state'].unique())\n",
    "print(customer_spend_df['customer_city'].unique())"
   ]
  },
  {
   "cell_type": "code",
   "execution_count": 69,
   "metadata": {
    "scrolled": true
   },
   "outputs": [],
   "source": [
    "\n",
    "customer_spend_df[[\"customer_id\",\"customer_city\"]] = customer_spend_df[[\"customer_id\",\"customer_city\"]].apply(LabelEncoder().fit_transform)\n",
    "customer_spend_df = customer_spend_df.drop([\"customer_id\"],axis=1)\n",
    "\n"
   ]
  }
 ],
 "metadata": {
  "kernelspec": {
   "display_name": "Python 3",
   "language": "python",
   "name": "python3"
  },
  "language_info": {
   "codemirror_mode": {
    "name": "ipython",
    "version": 3
   },
   "file_extension": ".py",
   "mimetype": "text/x-python",
   "name": "python",
   "nbconvert_exporter": "python",
   "pygments_lexer": "ipython3",
   "version": "3.6.4"
  }
 },
 "nbformat": 4,
 "nbformat_minor": 2
}
